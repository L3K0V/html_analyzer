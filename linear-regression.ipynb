{
 "cells": [
  {
   "cell_type": "markdown",
   "metadata": {},
   "source": [
    "# Разпознаване на навигация\n",
    "\n",
    "Изграждайки си модел на HTML елементи да се провери дали използвайки линейна регресия можем да разпознаваме различни елементи от даден сайт, в частност основната навигация. \n",
    "Модела се базира на това елемента с какъв таг е дали е div nav или друг; дали в класовете на елемента присъстват nav, main, navigation, menu и прочие; колко линка се съдържат в зададеният елемент и колко от тях са на еднакаква дълбочина в DOM дървото.\n",
    "    \n",
    "Това което трябва да се добави е дълбочината на текущият елемент. И да се оптимизира да чете dataset-a от CSV"
   ]
  },
  {
   "cell_type": "code",
   "execution_count": 1,
   "metadata": {},
   "outputs": [],
   "source": [
    "import numpy as np\n",
    "import matplotlib.pyplot as plt\n",
    "import pandas as pd\n",
    "import mglearn\n",
    "from IPython.display import display\n",
    "\n",
    "%matplotlib notebook\n",
    "\n",
    "import warnings\n",
    "warnings.filterwarnings(action=\"ignore\", module=\"scipy\", message=\"^internal gelsd\")\n",
    "warnings.filterwarnings(action=\"ignore\", module=\"sklearn\", message=\"^Objective did not\")"
   ]
  },
  {
   "cell_type": "markdown",
   "metadata": {},
   "source": [
    "# Зареждане на тестови данни\n",
    "\n",
    "Използваме данни от [този spreadsheet](https://docs.google.com/spreadsheets/d/1cSLMdwg6C8A2C8guRnCAiOPvG3uovgmmPola6QxTSA8/) които са извадени с помощта на библиотека написана за целта.\n",
    "\n",
    "в тях има обработени данни на следните сайтове:\n",
    "- https://github.com/\n",
    "- https://stackoverflow.com/\n",
    "- https://www.youtube.com/\n",
    "- https://www.telezueri.ch/\n",
    "- https://www.wireltern.ch/\n",
    "- https://www.wildeisen.ch/\n",
    "- http://www.datecs.bg/\n",
    "- https://www.ebay.com/\n",
    "- https://www.amazon.com/\n",
    "- https://www.bignerdranch.com/\n",
    "- http://kolibriframework.io/\n",
    "- https://www.microsoft.com/\n",
    "- https://squareup.com\n",
    "- https://www.apple.com/"
   ]
  },
  {
   "cell_type": "code",
   "execution_count": 2,
   "metadata": {},
   "outputs": [],
   "source": [
    "y = [1,0,0,1,0,0,1,0,1,0,0,1,0,0,1,0,0,1,0,1,0,0,1,0,1,0,0,1,0,1,0,0,1,0,0,1,0]\n",
    "x = [[3,0,0,5,5],[1,0,0,7,7],[2,-1,0,29,29],\n",
    "     [3,2,1,4,4],[1,0,0,21,7],[-1,-1,0,110,98],\n",
    "     [2,1,1,11,10],[2,0,0,13,12],[3,0,0,4,4],\n",
    "     [1,2,0,9,9],[-1,0,0,53,48],[3,0,0,5,5],\n",
    "     [1,0,0,10,6],[-1,-1,0,51,45],[2,2,0,6,6],\n",
    "     [1,1,0,10,10],[-1,1,0,51,45],[2,2,0,9,9],\n",
    "     [-1,-1,0,1,1],[2,0,0,8,8],[1,0,0,14,9],\n",
    "     [2,0,0,1,1],[2,2,0,34,28],[1,2,0,15,8],\n",
    "     [3,2,0,7,7],[1,0,0,15,14],[-1,-1,0,34,33],\n",
    "     [3,2,0,5,5],[-1,0,0,5,5],[3,2,1,21,21],\n",
    "     [-1,0,0,28,21],[1,0,0,23,13],[3,0,1,8,5],\n",
    "     [1,0,0,32,24],[-1,-1,0,78,43],[3,0,1,14,14],\n",
    "     [-1,0,0,63,41]\n",
    "    ]"
   ]
  },
  {
   "cell_type": "code",
   "execution_count": 3,
   "metadata": {},
   "outputs": [
    {
     "data": {
      "text/plain": [
       "LinearRegression(copy_X=True, fit_intercept=True, n_jobs=1, normalize=False)"
      ]
     },
     "execution_count": 3,
     "metadata": {},
     "output_type": "execute_result"
    }
   ],
   "source": [
    "from sklearn.linear_model import LinearRegression\n",
    "\n",
    "model = LinearRegression()\n",
    "model.fit(x, y)"
   ]
  },
  {
   "cell_type": "markdown",
   "metadata": {},
   "source": [
    "Коефициенти за всеки параметър (feature) и константа на този модел са:"
   ]
  },
  {
   "cell_type": "code",
   "execution_count": 4,
   "metadata": {},
   "outputs": [
    {
     "data": {
      "text/plain": [
       "(array([ 0.22168872,  0.08570927,  0.26697224, -0.00158637,  0.00565856]),\n",
       " -0.01612041997221536)"
      ]
     },
     "execution_count": 4,
     "metadata": {},
     "output_type": "execute_result"
    }
   ],
   "source": [
    "model.coef_, model.intercept_"
   ]
  },
  {
   "cell_type": "markdown",
   "metadata": {},
   "source": [
    "Успеваемостта на текущият модел е:"
   ]
  },
  {
   "cell_type": "code",
   "execution_count": 5,
   "metadata": {},
   "outputs": [
    {
     "data": {
      "text/plain": [
       "0.668481082738593"
      ]
     },
     "execution_count": 5,
     "metadata": {},
     "output_type": "execute_result"
    }
   ],
   "source": [
    "model.score(x, y)"
   ]
  },
  {
   "cell_type": "markdown",
   "metadata": {},
   "source": [
    "# Тестване\n",
    "Сега ще тестваме с навигацията на https://squareup.com"
   ]
  },
  {
   "cell_type": "code",
   "execution_count": 6,
   "metadata": {},
   "outputs": [
    {
     "data": {
      "text/plain": [
       "array([0.93151979])"
      ]
     },
     "execution_count": 6,
     "metadata": {},
     "output_type": "execute_result"
    }
   ],
   "source": [
    "model.predict(np.array([[3,0,1,8,5]]))"
   ]
  },
  {
   "cell_type": "markdown",
   "metadata": {},
   "source": [
    "Сега да тестваме и с долната (footer) част на сайта на https://squareup.com"
   ]
  },
  {
   "cell_type": "code",
   "execution_count": 7,
   "metadata": {},
   "outputs": [
    {
     "data": {
      "text/plain": [
       "array([-0.2039375])"
      ]
     },
     "execution_count": 7,
     "metadata": {},
     "output_type": "execute_result"
    }
   ],
   "source": [
    "model.predict(np.array([[-1,-1,0,78,43]]))"
   ]
  },
  {
   "cell_type": "markdown",
   "metadata": {},
   "source": [
    "Сега да видим какво ще изкара и за заглавната част на сайта, в която е и навигацията"
   ]
  },
  {
   "cell_type": "code",
   "execution_count": 8,
   "metadata": {},
   "outputs": [
    {
     "data": {
      "text/plain": [
       "array([0.29060975])"
      ]
     },
     "execution_count": 8,
     "metadata": {},
     "output_type": "execute_result"
    }
   ],
   "source": [
    "model.predict(np.array([[1,0,0,32,24]]))"
   ]
  }
 ],
 "metadata": {
  "kernelspec": {
   "display_name": "Python 3",
   "language": "python",
   "name": "python3"
  },
  "language_info": {
   "codemirror_mode": {
    "name": "ipython",
    "version": 3
   },
   "file_extension": ".py",
   "mimetype": "text/x-python",
   "name": "python",
   "nbconvert_exporter": "python",
   "pygments_lexer": "ipython3",
   "version": "3.6.4"
  }
 },
 "nbformat": 4,
 "nbformat_minor": 2
}
